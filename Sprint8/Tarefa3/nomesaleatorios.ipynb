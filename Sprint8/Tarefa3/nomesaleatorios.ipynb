{
  "cells": [
    {
      "cell_type": "code",
      "execution_count": null,
      "metadata": {
        "colab": {
          "base_uri": "https://localhost:8080/"
        },
        "id": "8OXyP3-Wltj3",
        "outputId": "81d1f56f-4621-41e7-9b95-0454a4303df8"
      },
      "outputs": [
        {
          "name": "stdout",
          "output_type": "stream",
          "text": [
            "Requirement already satisfied: pyspark in /usr/local/lib/python3.10/dist-packages (3.4.1)\n",
            "Requirement already satisfied: py4j in /usr/local/lib/python3.10/dist-packages (0.10.9.7)\n"
          ]
        }
      ],
      "source": [
        "!pip install pyspark py4j"
      ]
    },
    {
      "cell_type": "code",
      "execution_count": null,
      "metadata": {
        "id": "pZql0XZlqhzL"
      },
      "outputs": [],
      "source": [
        "from pyspark.sql import SparkSession\n",
        "from pyspark import SparkContext, SQLContext\n",
        "from pyspark.sql import functions as F"
      ]
    },
    {
      "cell_type": "code",
      "execution_count": null,
      "metadata": {
        "id": "vpA2ttJpqqdj"
      },
      "outputs": [],
      "source": [
        "spark = SparkSession.builder.master(\"local[*]\").appName(\"Exercicio Intro\").getOrCreate()"
      ]
    },
    {
      "cell_type": "markdown",
      "metadata": {
        "id": "_4SivnPrPS1e"
      },
      "source": [
        "# Nova seção"
      ]
    },
    {
      "cell_type": "code",
      "execution_count": null,
      "metadata": {
        "id": "cOwf3h0qq73q"
      },
      "outputs": [],
      "source": [
        "df_nomes = spark.read.csv(\"/nomes_aleatorios.txt\")"
      ]
    },
    {
      "cell_type": "code",
      "execution_count": null,
      "metadata": {
        "colab": {
          "base_uri": "https://localhost:8080/"
        },
        "id": "ttPJd42XrUd-",
        "outputId": "34826e37-fab2-4f47-bc59-9ed485357940"
      },
      "outputs": [
        {
          "name": "stdout",
          "output_type": "stream",
          "text": [
            "+----------------+\n",
            "|             _c0|\n",
            "+----------------+\n",
            "|  Frances Bennet|\n",
            "|   Jamie Russell|\n",
            "|  Edward Kistler|\n",
            "|   Sheila Maurer|\n",
            "|Donald Golightly|\n",
            "+----------------+\n",
            "only showing top 5 rows\n",
            "\n"
          ]
        }
      ],
      "source": [
        "df_nomes.show(5)"
      ]
    },
    {
      "cell_type": "code",
      "execution_count": null,
      "metadata": {
        "id": "aEh15ziUs0iv"
      },
      "outputs": [],
      "source": [
        "df_nomes = df_nomes.withColumnRenamed(df_nomes.columns[0], \"Nomes\")"
      ]
    },
    {
      "cell_type": "code",
      "execution_count": null,
      "metadata": {
        "colab": {
          "base_uri": "https://localhost:8080/"
        },
        "id": "A_9aE1Gcs8CJ",
        "outputId": "a60f1452-3738-44ab-dd90-2f81173f630f"
      },
      "outputs": [
        {
          "name": "stdout",
          "output_type": "stream",
          "text": [
            "+-----------------+\n",
            "|            Nomes|\n",
            "+-----------------+\n",
            "|   Frances Bennet|\n",
            "|    Jamie Russell|\n",
            "|   Edward Kistler|\n",
            "|    Sheila Maurer|\n",
            "| Donald Golightly|\n",
            "|       David Gray|\n",
            "|      Joy Bennett|\n",
            "|      Paul Kriese|\n",
            "|Berniece Ornellas|\n",
            "|    Brian Farrell|\n",
            "+-----------------+\n",
            "only showing top 10 rows\n",
            "\n"
          ]
        }
      ],
      "source": [
        "df_nomes.show(10)"
      ]
    },
    {
      "cell_type": "code",
      "execution_count": null,
      "metadata": {
        "colab": {
          "base_uri": "https://localhost:8080/"
        },
        "id": "TR81W4gZv6nC",
        "outputId": "4c1a628c-5467-4c50-e48d-b85fe2bcbed6"
      },
      "outputs": [
        {
          "name": "stdout",
          "output_type": "stream",
          "text": [
            "+-----------------+------------+\n",
            "|            Nomes|Escolaridade|\n",
            "+-----------------+------------+\n",
            "|   Frances Bennet|    Superior|\n",
            "|    Jamie Russell| Fundamental|\n",
            "|   Edward Kistler| Fundamental|\n",
            "|    Sheila Maurer|       Medio|\n",
            "| Donald Golightly| Fundamental|\n",
            "|       David Gray|       Medio|\n",
            "|      Joy Bennett|    Superior|\n",
            "|      Paul Kriese| Fundamental|\n",
            "|Berniece Ornellas|       Medio|\n",
            "|    Brian Farrell|       Medio|\n",
            "+-----------------+------------+\n",
            "only showing top 10 rows\n",
            "\n"
          ]
        }
      ],
      "source": [
        "df_nomes = df_nomes.withColumn(\"Escolaridade\", F.when(F.rand() < 1/3, \"Fundamental\")\n",
        "                                               .when(F.rand() < 2/3, \"Medio\")\n",
        "                                               .otherwise(\"Superior\"))\n",
        "df_nomes.show(10)"
      ]
    },
    {
      "cell_type": "code",
      "execution_count": null,
      "metadata": {
        "colab": {
          "base_uri": "https://localhost:8080/"
        },
        "id": "nG-FF0ETyBNb",
        "outputId": "dd2c38c5-fb55-4118-96e4-32b11215caff"
      },
      "outputs": [
        {
          "name": "stdout",
          "output_type": "stream",
          "text": [
            "+-----------------+------------+---------------+\n",
            "|            Nomes|Escolaridade|           Pais|\n",
            "+-----------------+------------+---------------+\n",
            "|   Frances Bennet|    Superior|         Brasil|\n",
            "|    Jamie Russell| Fundamental|       Colombia|\n",
            "|   Edward Kistler| Fundamental|      Argentina|\n",
            "|    Sheila Maurer|       Medio|         Brasil|\n",
            "| Donald Golightly| Fundamental|        Bolivia|\n",
            "|       David Gray|       Medio|        Equador|\n",
            "|      Joy Bennett|    Superior|Guiana Francesa|\n",
            "|      Paul Kriese| Fundamental|         Guiana|\n",
            "|Berniece Ornellas|       Medio|         Brasil|\n",
            "|    Brian Farrell|       Medio|          Chile|\n",
            "+-----------------+------------+---------------+\n",
            "only showing top 10 rows\n",
            "\n"
          ]
        }
      ],
      "source": [
        "df_nomes = df_nomes.withColumn(\"Pais\", F.when(F.rand() < 1/13, \"Argentina\")\n",
        "                                        .when(F.rand() < 2/13, \"Bolivia\")\n",
        "                                        .when(F.rand() < 3/13, \"Brasil\")\n",
        "                                        .when(F.rand() < 4/13, \"Chile\")\n",
        "                                        .when(F.rand() < 5/13, \"Colombia\")\n",
        "                                        .when(F.rand() < 6/13, \"Equador\")\n",
        "                                        .when(F.rand() < 7/13, \"Guiana\")\n",
        "                                        .when(F.rand() < 8/13, \"Guiana Francesa\")\n",
        "                                        .when(F.rand() < 9/13, \"Paraguai\")\n",
        "                                        .when(F.rand() < 10/13, \"Peru\")\n",
        "                                        .when(F.rand() < 11/13, \"Suriname\")\n",
        "                                        .when(F.rand() < 12/13, \"Uruguai\")\n",
        "                                        .otherwise(\"Venezuela\")\n",
        "                                        )\n",
        "df_nomes.show(10)"
      ]
    },
    {
      "cell_type": "code",
      "execution_count": null,
      "metadata": {
        "colab": {
          "base_uri": "https://localhost:8080/"
        },
        "id": "rMZPy0Ib1HAM",
        "outputId": "0bc11975-e7e5-4dc9-c7bf-3ad9bdae817c"
      },
      "outputs": [
        {
          "name": "stdout",
          "output_type": "stream",
          "text": [
            "+-----------------+------------+---------------+-------------+\n",
            "|            Nomes|Escolaridade|           Pais|AnoNascimento|\n",
            "+-----------------+------------+---------------+-------------+\n",
            "|   Frances Bennet|    Superior|         Brasil|         1955|\n",
            "|    Jamie Russell| Fundamental|       Colombia|         2009|\n",
            "|   Edward Kistler| Fundamental|      Argentina|         2004|\n",
            "|    Sheila Maurer|       Medio|         Brasil|         1961|\n",
            "| Donald Golightly| Fundamental|        Bolivia|         2006|\n",
            "|       David Gray|       Medio|        Equador|         1974|\n",
            "|      Joy Bennett|    Superior|Guiana Francesa|         1966|\n",
            "|      Paul Kriese| Fundamental|         Guiana|         2000|\n",
            "|Berniece Ornellas|       Medio|         Brasil|         1950|\n",
            "|    Brian Farrell|       Medio|          Chile|         1979|\n",
            "+-----------------+------------+---------------+-------------+\n",
            "only showing top 10 rows\n",
            "\n"
          ]
        }
      ],
      "source": [
        "df_nomes = df_nomes.withColumn(\"AnoNascimento\", (1945 + (F.rand() * 66)).cast(\"int\"))\n",
        "df_nomes.show(10)"
      ]
    },
    {
      "cell_type": "code",
      "execution_count": null,
      "metadata": {
        "colab": {
          "base_uri": "https://localhost:8080/"
        },
        "id": "4b1TkskbriQT",
        "outputId": "7fc5a936-9cfd-4e98-ac5f-aca57f6137e6"
      },
      "outputs": [
        {
          "name": "stdout",
          "output_type": "stream",
          "text": [
            "+-----------------+\n",
            "|            Nomes|\n",
            "+-----------------+\n",
            "|    Jamie Russell|\n",
            "|   Edward Kistler|\n",
            "| Donald Golightly|\n",
            "|         Mary Lee|\n",
            "|   Wilfredo Grant|\n",
            "|  Kenneth Rayburn|\n",
            "|    Michael Agnew|\n",
            "|     James Barton|\n",
            "|      Milton Rowe|\n",
            "|Marguerite Rankin|\n",
            "+-----------------+\n",
            "only showing top 10 rows\n",
            "\n"
          ]
        }
      ],
      "source": [
        "df_select = df_nomes.select(\"*\").where(df_nomes.AnoNascimento > 2000)\n",
        "df_select.show(10)"
      ]
    },
    {
      "cell_type": "code",
      "execution_count": null,
      "metadata": {
        "colab": {
          "base_uri": "https://localhost:8080/"
        },
        "id": "CZe13fO5Yuz8",
        "outputId": "39ea8e66-af1c-4720-f838-bcdeb639b89c"
      },
      "outputs": [
        {
          "name": "stdout",
          "output_type": "stream",
          "text": [
            "+-----------------+\n",
            "|            Nomes|\n",
            "+-----------------+\n",
            "|    Jamie Russell|\n",
            "|   Edward Kistler|\n",
            "| Donald Golightly|\n",
            "|         Mary Lee|\n",
            "|   Wilfredo Grant|\n",
            "|  Kenneth Rayburn|\n",
            "|    Michael Agnew|\n",
            "|     James Barton|\n",
            "|      Milton Rowe|\n",
            "|Marguerite Rankin|\n",
            "+-----------------+\n",
            "only showing top 10 rows\n",
            "\n"
          ]
        }
      ],
      "source": [
        "df_nomes.createOrReplaceTempView(\"pessoas\")\n",
        "query = \"\"\"\n",
        "    SELECT Nomes\n",
        "    FROM pessoas\n",
        "    WHERE AnoNascimento > 2000\n",
        "\"\"\"\n",
        "df_sql = spark.sql(query)\n",
        "df_sql.show(10)"
      ]
    },
    {
      "cell_type": "code",
      "execution_count": null,
      "metadata": {
        "colab": {
          "base_uri": "https://localhost:8080/"
        },
        "id": "hyK0PSWeabI_",
        "outputId": "42ff6f59-0ccd-49e5-d93b-7097abfcd76d"
      },
      "outputs": [
        {
          "name": "stdout",
          "output_type": "stream",
          "text": [
            "1970126\n"
          ]
        }
      ],
      "source": [
        "millenials = df_nomes.select(\"*\").where((F.col(\"AnoNascimento\") > 1980) & (F.col(\"AnoNascimento\") < 1994)).count()\n",
        "print(millenials)"
      ]
    },
    {
      "cell_type": "code",
      "execution_count": null,
      "metadata": {
        "colab": {
          "base_uri": "https://localhost:8080/"
        },
        "id": "9dd_z4Z6bb6r",
        "outputId": "274aaa4c-507b-4617-b94b-f1b3ab7f37a4"
      },
      "outputs": [
        {
          "name": "stdout",
          "output_type": "stream",
          "text": [
            "+------------------+\n",
            "|ContagemMillenials|\n",
            "+------------------+\n",
            "|           1970126|\n",
            "+------------------+\n",
            "\n"
          ]
        }
      ],
      "source": [
        "query = \"\"\"\n",
        "    SELECT count(Nomes) as ContagemMillenials\n",
        "    FROM pessoas\n",
        "    WHERE AnoNascimento > 1980 AND AnoNascimento < 1994\n",
        "\"\"\"\n",
        "contagem_sql = spark.sql(query)\n",
        "contagem_sql.show()"
      ]
    },
    {
      "cell_type": "code",
      "execution_count": null,
      "metadata": {
        "colab": {
          "base_uri": "https://localhost:8080/"
        },
        "id": "nZhYYNXqdkwb",
        "outputId": "1d1c2884-50f1-4e43-e7ef-418b829c1694"
      },
      "outputs": [
        {
          "name": "stdout",
          "output_type": "stream",
          "text": [
            "+---------------+------------+----------+\n",
            "|           Pais|     Geracao|Quantidade|\n",
            "+---------------+------------+----------+\n",
            "|      Argentina|Baby Boomers|    232696|\n",
            "|      Argentina|   Geração X|    174456|\n",
            "|      Argentina|   Geração Z|    187137|\n",
            "|      Argentina| Millennials|    174974|\n",
            "|        Bolivia|Baby Boomers|    429881|\n",
            "|        Bolivia|   Geração X|    322327|\n",
            "|        Bolivia|   Geração Z|    343637|\n",
            "|        Bolivia| Millennials|    322794|\n",
            "|         Brasil|Baby Boomers|    546374|\n",
            "|         Brasil|   Geração X|    410689|\n",
            "|         Brasil|   Geração Z|    436922|\n",
            "|         Brasil| Millennials|    409930|\n",
            "|          Chile|Baby Boomers|    559755|\n",
            "|          Chile|   Geração X|    419884|\n",
            "|          Chile|   Geração Z|    448125|\n",
            "|          Chile| Millennials|    419380|\n",
            "|       Colombia|Baby Boomers|    483464|\n",
            "|       Colombia|   Geração X|    364079|\n",
            "|       Colombia|   Geração Z|    387514|\n",
            "|       Colombia| Millennials|    364061|\n",
            "|        Equador|Baby Boomers|    358303|\n",
            "|        Equador|   Geração X|    268587|\n",
            "|        Equador|   Geração Z|    286370|\n",
            "|        Equador| Millennials|    268349|\n",
            "|         Guiana|Baby Boomers|    224629|\n",
            "|         Guiana|   Geração X|    168819|\n",
            "|         Guiana|   Geração Z|    180778|\n",
            "|         Guiana| Millennials|    168858|\n",
            "|Guiana Francesa|Baby Boomers|    118697|\n",
            "|Guiana Francesa|   Geração X|     89029|\n",
            "|Guiana Francesa|   Geração Z|     95344|\n",
            "|Guiana Francesa| Millennials|     89498|\n",
            "|       Paraguai|Baby Boomers|     51296|\n",
            "|       Paraguai|   Geração X|     38490|\n",
            "|       Paraguai|   Geração Z|     41040|\n",
            "|       Paraguai| Millennials|     38740|\n",
            "|           Peru|Baby Boomers|     17236|\n",
            "|           Peru|   Geração X|     13285|\n",
            "|           Peru|   Geração Z|     14172|\n",
            "|           Peru| Millennials|     13084|\n",
            "|       Suriname|Baby Boomers|      4436|\n",
            "|       Suriname|   Geração X|      3377|\n",
            "|       Suriname|   Geração Z|      3577|\n",
            "|       Suriname| Millennials|      3319|\n",
            "|        Uruguai|Baby Boomers|       711|\n",
            "|        Uruguai|   Geração X|       569|\n",
            "|        Uruguai|   Geração Z|       596|\n",
            "|        Uruguai| Millennials|       530|\n",
            "|      Venezuela|Baby Boomers|        68|\n",
            "|      Venezuela|   Geração X|        41|\n",
            "|      Venezuela|   Geração Z|        44|\n",
            "|      Venezuela| Millennials|        49|\n",
            "+---------------+------------+----------+\n",
            "\n"
          ]
        }
      ],
      "source": [
        "query = \"\"\"\n",
        "    SELECT Pais,\n",
        "           CASE WHEN AnoNascimento BETWEEN 1944 AND 1964 THEN 'Baby Boomers'\n",
        "                WHEN AnoNascimento BETWEEN 1965 AND 1979 THEN 'Geração X'\n",
        "                WHEN AnoNascimento BETWEEN 1980 AND 1994 THEN 'Millennials'\n",
        "                ELSE 'Geração Z'\n",
        "                END AS Geracao,\n",
        "           COUNT(Nomes) AS Quantidade\n",
        "    FROM pessoas\n",
        "    GROUP BY Pais, Geracao\n",
        "    ORDER BY Pais, Geracao, Quantidade\n",
        "\"\"\"\n",
        "\n",
        "df_resultado = spark.sql(query)\n",
        "\n",
        "df_resultado.show(52)"
      ]
    }
  ],
  "metadata": {
    "colab": {
      "provenance": []
    },
    "kernelspec": {
      "display_name": "Python 3",
      "name": "python3"
    },
    "language_info": {
      "name": "python"
    }
  },
  "nbformat": 4,
  "nbformat_minor": 0
}
